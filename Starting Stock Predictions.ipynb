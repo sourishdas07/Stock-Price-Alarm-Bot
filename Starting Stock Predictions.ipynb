{
 "cells": [
  {
   "cell_type": "code",
   "execution_count": null,
   "id": "d11f6c0e",
   "metadata": {},
   "outputs": [],
   "source": [
    "import pandas as pd\n",
    "import pandas_datareader\n",
    "import datetime as dt\n",
    "from sklearn.ensemble import RandomForestClassifier\n",
    "import matplotlib.pyplot as plt\n",
    "import finnhub\n",
    "import time\n",
    "from textblob import TextBlob"
   ]
  },
  {
   "cell_type": "code",
   "execution_count": 5,
   "id": "d4e6d6ad",
   "metadata": {
    "scrolled": true
   },
   "outputs": [],
   "source": [
    "# Start Date of Data Set \n",
    "start_date_input = input(\"Start Date (in DD/MM/YYYY) \")\n",
    "start_date = dt.datetime.strptime(start_date_input, \"%d/%m/%Y\").date()\n",
    "\n",
    "# End Date of Data Set\n",
    "end_date = dt.today()\n",
    "\n",
    "# Receiving Specific Stock Data\n",
    "ticker = input(\"Enter a ticker: \")\n",
    "stock_info = pandas_datareader.DataReader(ticker, 'yahoo', start_date, end_date)"
   ]
  },
  {
   "cell_type": "code",
   "execution_count": null,
   "id": "3a79d711",
   "metadata": {},
   "outputs": [],
   "source": [
    "predictors = ['Close', 'High', 'Low', 'Open', 'Volume']\n",
    "stock_prev = stock_info.copy()\n",
    "stock_prev = stock_prev.shift(1)\n",
    "cut_off = 1\n",
    "data = data.join(stock_prev[predictors]).iloc[cut_off:]"
   ]
  },
  {
   "cell_type": "code",
   "execution_count": null,
   "id": "9bed7779",
   "metadata": {},
   "outputs": [],
   "source": [
    "data = stock_info[['Close']]\n",
    "data = data.rename(columns={'Close': 'True_Close'})\n",
    "data['Target'] = stock_info.rolling(2).apply(lambda x: x.iloc[1] > x.iloc[0])['Close']"
   ]
  },
  {
   "cell_type": "code",
   "execution_count": null,
   "id": "83c73483",
   "metadata": {},
   "outputs": [],
   "source": [
    "# Part 3\n",
    "\n",
    "# Number of Decision Trees\n",
    "estimators = input(\"Number of Decision Trees: \")  \n",
    "\n",
    "# Minimum Number of Samples We Require to Accumulate in a Given Leaf Node \n",
    "#   Before We Allow Further Splits\n",
    "samples_split = input(\"Minimum Number of Samples Required Before Split: \")\n",
    "\n",
    "model = RandomForestClassifier(n_estimators = estimators, min_samples_split = samples_split, random_state=1)"
   ]
  },
  {
   "cell_type": "code",
   "execution_count": null,
   "id": "240632ae",
   "metadata": {},
   "outputs": [],
   "source": [
    "# Part 4\n",
    "\n",
    "# Prediction Period in Days\n",
    "pred_days = input(\"Prediction Period: \")\n",
    "\n",
    "train = data.iloc[:-pred_days]\n",
    "test = data.iloc[-pred_days:]\n",
    "model.fit(train[predictors], train['Target'])"
   ]
  },
  {
   "cell_type": "code",
   "execution_count": null,
   "id": "d9e93f9d",
   "metadata": {},
   "outputs": [],
   "source": [
    "# Part 5\n",
    "preds = (model.predict_proba(test[predictors]))[:, 1]\n",
    "preds = pd.Series(preds, index=test.index)\n",
    "\n",
    "# Receiving Target Precision from User\n",
    "target_precision = input(\"Target Precision: \")\n",
    "\n",
    "preds[preds >= target_precision] = 1\n",
    "preds[preds < target_precision] = 0"
   ]
  },
  {
   "cell_type": "code",
   "execution_count": null,
   "id": "78da668f",
   "metadata": {},
   "outputs": [],
   "source": [
    "# Part 6\n",
    "combined = pd.concat({'Target': test['Target'], 'Predictions': preds}, axis=1)\n",
    "plt.plot(combined['Predictions'])\n",
    "plt.plot(combined['Target'])\n",
    "plt.show()"
   ]
  }
 ],
 "metadata": {
  "kernelspec": {
   "display_name": "Python 3 (ipykernel)",
   "language": "python",
   "name": "python3"
  },
  "language_info": {
   "codemirror_mode": {
    "name": "ipython",
    "version": 3
   },
   "file_extension": ".py",
   "mimetype": "text/x-python",
   "name": "python",
   "nbconvert_exporter": "python",
   "pygments_lexer": "ipython3",
   "version": "3.9.12"
  },
  "vscode": {
   "interpreter": {
    "hash": "aee8b7b246df8f9039afb4144a1f6fd8d2ca17a180786b69acc140d282b71a49"
   }
  }
 },
 "nbformat": 4,
 "nbformat_minor": 5
}
