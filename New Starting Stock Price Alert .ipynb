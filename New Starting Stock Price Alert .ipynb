{
 "cells": [
  {
   "cell_type": "code",
   "execution_count": 7,
   "id": "1ae2a3bd",
   "metadata": {},
   "outputs": [],
   "source": [
    "from alpha_vantage.timeseries import TimeSeries #enables data pull from Alpha Vantage\n",
    "# API Documentation:\n",
    "# https://www.alphavantage.co/documentation/\n",
    "# API Key: 20PW33D6YM2JMNYR\n",
    "\n",
    "import pandas as pd #data manipulation and analysis package\n",
    "import matplotlib.pyplot as plt #if you want to plot your findings\n",
    "import time\n",
    "import smtplib #enables you to send emails"
   ]
  },
  {
   "cell_type": "code",
   "execution_count": 8,
   "id": "9fbbf157",
   "metadata": {
    "scrolled": true
   },
   "outputs": [
    {
     "name": "stdout",
     "output_type": "stream",
     "text": [
      "Ticker Symbol: AAPL\n"
     ]
    }
   ],
   "source": [
    "#Getting the data from alpha_vantage\n",
    "\n",
    "ticker = input(\"Ticker Symbol: \")\n",
    "\n",
    "ts = TimeSeries(key='20PW33D6YM2JMNYR', output_format='pandas')\n",
    "data, meta_data = ts.get_intraday(symbol = ticker,interval = '1min', outputsize = 'full')"
   ]
  },
  {
   "cell_type": "code",
   "execution_count": 15,
   "id": "37e3b41f",
   "metadata": {
    "scrolled": true
   },
   "outputs": [
    {
     "ename": "NameError",
     "evalue": "name 'last_data' is not defined",
     "output_type": "error",
     "traceback": [
      "\u001b[0;31m---------------------------------------------------------------------------\u001b[0m",
      "\u001b[0;31mNameError\u001b[0m                                 Traceback (most recent call last)",
      "Input \u001b[0;32mIn [15]\u001b[0m, in \u001b[0;36m<cell line: 5>\u001b[0;34m()\u001b[0m\n\u001b[1;32m      3\u001b[0m last_price \u001b[38;5;241m=\u001b[39m close_data[\u001b[38;5;241m0\u001b[39m] \u001b[38;5;66;03m#Selecting the last price from the close_data column\u001b[39;00m\n\u001b[1;32m      4\u001b[0m \u001b[38;5;66;03m#Check if you're getting a correct value\u001b[39;00m\n\u001b[0;32m----> 5\u001b[0m \u001b[38;5;28mprint\u001b[39m(\u001b[43mlast_data\u001b[49m)\n",
      "\u001b[0;31mNameError\u001b[0m: name 'last_data' is not defined"
     ]
    }
   ],
   "source": [
    "#We are currently interested in the latest price\n",
    "close_data = data['4. close'] #The close data column\n",
    "last_price = close_data[0] #Selecting the last price from the close_data column\n",
    "#Check if you're getting a correct value\n",
    "print(last_data) "
   ]
  },
  {
   "cell_type": "code",
   "execution_count": null,
   "id": "eef58b0f",
   "metadata": {},
   "outputs": [],
   "source": []
  }
 ],
 "metadata": {
  "kernelspec": {
   "display_name": "Python 3 (ipykernel)",
   "language": "python",
   "name": "python3"
  },
  "language_info": {
   "codemirror_mode": {
    "name": "ipython",
    "version": 3
   },
   "file_extension": ".py",
   "mimetype": "text/x-python",
   "name": "python",
   "nbconvert_exporter": "python",
   "pygments_lexer": "ipython3",
   "version": "3.9.12"
  }
 },
 "nbformat": 4,
 "nbformat_minor": 5
}
