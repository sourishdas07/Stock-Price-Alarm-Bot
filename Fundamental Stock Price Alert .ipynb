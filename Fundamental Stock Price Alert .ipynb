{
 "cells": [
  {
   "cell_type": "code",
   "execution_count": 1,
   "id": "93d29c1a",
   "metadata": {},
   "outputs": [],
   "source": [
    "# Pulling Data \n",
    "import pandas as pd \n",
    "import matplotlib.pyplot as plt \n",
    "import time\n",
    "import yfinance as yf\n",
    "\n",
    "# Automating Emails\n",
    "import smtplib \n",
    "import ssl\n",
    "from email.message import EmailMessage"
   ]
  },
  {
   "cell_type": "code",
   "execution_count": 3,
   "id": "c5c4ea28",
   "metadata": {},
   "outputs": [
    {
     "name": "stdout",
     "output_type": "stream",
     "text": [
      "Ticker Symbol: AAPL\n"
     ]
    }
   ],
   "source": [
    "ticker = input('Ticker Symbol: ')"
   ]
  },
  {
   "cell_type": "code",
   "execution_count": 5,
   "id": "5f033905",
   "metadata": {
    "scrolled": true
   },
   "outputs": [
    {
     "name": "stdout",
     "output_type": "stream",
     "text": [
      "Target Sell Price: 130\n"
     ]
    }
   ],
   "source": [
    "target_sell_price = int(input('Target Sell Price: '))"
   ]
  },
  {
   "cell_type": "code",
   "execution_count": 6,
   "id": "f8140fbf",
   "metadata": {},
   "outputs": [
    {
     "name": "stdout",
     "output_type": "stream",
     "text": [
      "126.04000091552734\n"
     ]
    }
   ],
   "source": [
    "def get_current_price(symbol):\n",
    "    ticker = yf.Ticker(symbol)\n",
    "    todays_data = ticker.history(period='1min')\n",
    "    return todays_data['Close'][0]\n",
    "\n",
    "print(get_current_price(ticker))"
   ]
  },
  {
   "cell_type": "code",
   "execution_count": null,
   "id": "12a443c8",
   "metadata": {},
   "outputs": [],
   "source": [
    "if get_current_price(ticker) > target_sell_price:\n",
    "    \n",
    "    email_sender = 'sourish10das@gmail.com'\n",
    "    password = input('')\n",
    "    email_receiver = 'nibedita27das@gmail.com'\n",
    "\n",
    "    # Set the subject and body of the email\n",
    "    subject = 'Check out my new video!'\n",
    "    body = \"\"\"\n",
    "    I've just published a new video on YouTube: https://youtu.be/2cZzP9DLlkg\n",
    "    \"\"\"\n",
    "\n",
    "    em = EmailMessage()\n",
    "    em['From'] = email_sender\n",
    "    em['To'] = email_receiver\n",
    "    em['Subject'] = subject\n",
    "    em.set_content(body)\n",
    "\n",
    "    # Add SSL (layer of security)\n",
    "    context = ssl.create_default_context()\n",
    "\n",
    "    # Log in and send the email\n",
    "    with smtplib.SMTP_SSL('smtp.gmail.com', 465, context = context) as smtp:\n",
    "        smtp.login(email_sender, password)\n",
    "        smtp.sendmail(email_sender, email_receiver, em.as_string())"
   ]
  }
 ],
 "metadata": {
  "kernelspec": {
   "display_name": "Python 3 (ipykernel)",
   "language": "python",
   "name": "python3"
  },
  "language_info": {
   "codemirror_mode": {
    "name": "ipython",
    "version": 3
   },
   "file_extension": ".py",
   "mimetype": "text/x-python",
   "name": "python",
   "nbconvert_exporter": "python",
   "pygments_lexer": "ipython3",
   "version": "3.11.0"
  },
  "vscode": {
   "interpreter": {
    "hash": "aee8b7b246df8f9039afb4144a1f6fd8d2ca17a180786b69acc140d282b71a49"
   }
  }
 },
 "nbformat": 4,
 "nbformat_minor": 5
}
