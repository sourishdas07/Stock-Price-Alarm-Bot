{
 "cells": [
  {
   "cell_type": "code",
   "execution_count": 30,
   "id": "93d29c1a",
   "metadata": {},
   "outputs": [],
   "source": [
    "import smtplib # Enables you to send emails\n",
    "from alpha_vantage.timeseries import TimeSeries # Enables data pull from Alpha Vantage\n",
    "\n",
    "# API Documentation:\n",
    "# https://www.alphavantage.co/documentation/\n",
    "# API Key: 20PW33D6YM2JMNYR\n",
    "\n",
    "import pandas as pd \n",
    "import matplotlib.pyplot as plt \n",
    "import time"
   ]
  },
  {
   "cell_type": "code",
   "execution_count": null,
   "id": "0b769640",
   "metadata": {
    "scrolled": true
   },
   "outputs": [],
   "source": [
    "# Getting the data from the API\n",
    "\n",
    "ticker = input(\"Ticker Symbol: \") # Receiving the Ticker \n",
    "\n",
    "ts = TimeSeries(key = '20PW33D6YM2JMNYR', output_format = 'pandas')\n",
    "data, meta_data = ts.get_intraday(symbol = ticker, interval = '1min', outputsize = 'full')"
   ]
  },
  {
   "cell_type": "code",
   "execution_count": null,
   "id": "330c0d2c",
   "metadata": {
    "scrolled": false
   },
   "outputs": [],
   "source": [
    "# Getting the Latest Price of the Stock\n",
    "\n",
    "close_data = data['4. close'] # Close Data Column\n",
    "last_price = close_data[0] # Selecting the Last Price from the close_data Column\n",
    "\n",
    "print(last_price) # Printing the Current Value of the Stock"
   ]
  },
  {
   "cell_type": "code",
   "execution_count": null,
   "id": "ff398e75",
   "metadata": {},
   "outputs": [],
   "source": [
    "# Getting the Recipient \n",
    "\n",
    "sender_email = \"sourish10das@gmail.com\" # The Source \n",
    "rec_email = input(\"The Receiving Email: \") # The Receiving email\n",
    "password = input(\"Password to Source Email: \") # The Password to The Source\n",
    "\n",
    "message = ticker + \"STOCK PRICE ALERT!!! The stock is at above price you set \" \n",
    "                    + \"%.4f\" % last_price  # The Stock Price Alert Message"
   ]
  },
  {
   "cell_type": "code",
   "execution_count": null,
   "id": "5f033905",
   "metadata": {
    "scrolled": false
   },
   "outputs": [],
   "source": [
    "target_sell_price = int(input(\"Target Sell Price: \"))"
   ]
  },
  {
   "cell_type": "code",
   "execution_count": null,
   "id": "99f67304",
   "metadata": {},
   "outputs": [],
   "source": [
    "if last_price > target_sell_price:\n",
    "    server = smtplib.SMTP('smtp.gmail.com', 587)\n",
    "    server.starttls()\n",
    "    server.login(sender_email, password) # Logs into your Email Account\n",
    "    print(\"Login Success\") # Confirms that you have Logged in Succesfully\n",
    "    server.sendmail(sender_email, rec_email, message) # Sends the Smail \n",
    "    print(\"Email was sent\") #confirms that the email was sent "
   ]
  }
 ],
 "metadata": {
  "kernelspec": {
   "display_name": "Python 3 (ipykernel)",
   "language": "python",
   "name": "python3"
  },
  "language_info": {
   "codemirror_mode": {
    "name": "ipython",
    "version": 3
   },
   "file_extension": ".py",
   "mimetype": "text/x-python",
   "name": "python",
   "nbconvert_exporter": "python",
   "pygments_lexer": "ipython3",
   "version": "3.11.0"
  },
  "vscode": {
   "interpreter": {
    "hash": "aee8b7b246df8f9039afb4144a1f6fd8d2ca17a180786b69acc140d282b71a49"
   }
  }
 },
 "nbformat": 4,
 "nbformat_minor": 5
}
