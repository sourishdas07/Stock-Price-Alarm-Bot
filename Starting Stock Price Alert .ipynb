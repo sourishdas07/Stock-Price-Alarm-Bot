{
 "cells": [
  {
   "cell_type": "code",
   "execution_count": 30,
   "id": "93d29c1a",
   "metadata": {},
   "outputs": [],
   "source": [
    "from alpha_vantage.timeseries import TimeSeries #enables data pull from Alpha Vantage\n",
    "\n",
    "# API Documentation:\n",
    "# https://www.alphavantage.co/documentation/\n",
    "# API Key: 20PW33D6YM2JMNYR\n",
    "\n",
    "import pandas as pd #data manipulation and analysis package\n",
    "import matplotlib.pyplot as plt #if you want to plot your findings\n",
    "import time\n",
    "import smtplib #enables you to send emails"
   ]
  },
  {
   "cell_type": "code",
   "execution_count": 31,
   "id": "0b769640",
   "metadata": {
    "scrolled": true
   },
   "outputs": [
    {
     "name": "stdout",
     "output_type": "stream",
     "text": [
      "Ticker Symbol: AAPL\n"
     ]
    }
   ],
   "source": [
    "#Getting the data from alpha_vantage\n",
    "\n",
    "ticker = input(\"Ticker Symbol: \") # Receiving the Ticker \n",
    "\n",
    "ts = TimeSeries(key='20PW33D6YM2JMNYR', output_format='pandas')\n",
    "data, meta_data = ts.get_intraday(symbol = ticker, interval = '1min', outputsize = 'full')"
   ]
  },
  {
   "cell_type": "code",
   "execution_count": 32,
   "id": "330c0d2c",
   "metadata": {
    "scrolled": false
   },
   "outputs": [
    {
     "name": "stdout",
     "output_type": "stream",
     "text": [
      "131.65\n"
     ]
    }
   ],
   "source": [
    "#We are currently interested in the latest price\n",
    "close_data = data['4. close'] #The close data column\n",
    "last_price = close_data[0] #Selecting the last price from the close_data column\n",
    "#Check if you're getting a correct value\n",
    "print(last_price) "
   ]
  },
  {
   "cell_type": "code",
   "execution_count": 43,
   "id": "ff398e75",
   "metadata": {},
   "outputs": [
    {
     "name": "stdout",
     "output_type": "stream",
     "text": [
      "The Source Email: sourish10das@gmail.com\n",
      "The Receiving Email: nibedita27das@gmail.com\n"
     ]
    }
   ],
   "source": [
    "#Set the desired message you want to see once the stock price is at a certain level\n",
    "\n",
    "\n",
    "sender_email = input(\"The Source Email: \") #The sender email\n",
    "rec_email = input(\"The Receiving Email: \") #The receiver email\n",
    "\n",
    "password = (\"Password to \") #The password to the sender email\n",
    "\n",
    "message = \"STOCK ALERT!!! The stock is at above price you set \" + \"%.6f\" % last_price  #The message you want to send"
   ]
  },
  {
   "cell_type": "code",
   "execution_count": 8,
   "id": "5f033905",
   "metadata": {
    "scrolled": false
   },
   "outputs": [
    {
     "name": "stdout",
     "output_type": "stream",
     "text": [
      "Target Sell Price: 130\n"
     ]
    }
   ],
   "source": [
    "target_sell_price = int(input(\"Target Sell Price: \"))"
   ]
  },
  {
   "cell_type": "code",
   "execution_count": null,
   "id": "99f67304",
   "metadata": {},
   "outputs": [],
   "source": [
    "if last_price > target_sell_price:\n",
    "    server = smtplib.SMTP('smtp.gmail.com', 587)\n",
    "    server.starttls()\n",
    "    server.login(sender_email, password) #logs into your email account\n",
    "    print(\"Login Success\") #confirms that you have logged in succesfully\n",
    "    server.sendmail(sender_email, rec_email, message) #send the email with your custom mesage\n",
    "    print(\"Email was sent\") #confirms that the email was sent "
   ]
  }
 ],
 "metadata": {
  "kernelspec": {
   "display_name": "Python 3 (ipykernel)",
   "language": "python",
   "name": "python3"
  },
  "language_info": {
   "codemirror_mode": {
    "name": "ipython",
    "version": 3
   },
   "file_extension": ".py",
   "mimetype": "text/x-python",
   "name": "python",
   "nbconvert_exporter": "python",
   "pygments_lexer": "ipython3",
   "version": "3.9.12"
  },
  "vscode": {
   "interpreter": {
    "hash": "aee8b7b246df8f9039afb4144a1f6fd8d2ca17a180786b69acc140d282b71a49"
   }
  }
 },
 "nbformat": 4,
 "nbformat_minor": 5
}
